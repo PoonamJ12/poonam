{
  "nbformat": 4,
  "nbformat_minor": 0,
  "metadata": {
    "colab": {
      "name": "Untitled43.ipynb",
      "provenance": [],
      "authorship_tag": "ABX9TyP1sFZi9su9iRP6k7WjPRvE",
      "include_colab_link": true
    },
    "kernelspec": {
      "name": "python3",
      "display_name": "Python 3"
    },
    "language_info": {
      "name": "python"
    }
  },
  "cells": [
    {
      "cell_type": "markdown",
      "metadata": {
        "id": "view-in-github",
        "colab_type": "text"
      },
      "source": [
        "<a href=\"https://colab.research.google.com/github/PoonamJ12/poonam/blob/main/pract1horus.ipynb\" target=\"_parent\"><img src=\"https://colab.research.google.com/assets/colab-badge.svg\" alt=\"Open In Colab\"/></a>"
      ]
    },
    {
      "cell_type": "code",
      "execution_count": 1,
      "metadata": {
        "colab": {
          "base_uri": "https://localhost:8080/"
        },
        "id": "H4D2qL__UjiP",
        "outputId": "a8a7c811-4f89-4de9-a795-4305a1d5d9b4"
      },
      "outputs": [
        {
          "output_type": "stream",
          "name": "stdout",
          "text": [
            "   sno         country ISO-2-CODE ISO-3-CODE  ISO-M49\n",
            "0    0     Afghanistan         AF        AFG        4\n",
            "1    1  Aland  Islands         AX        ALA      248\n",
            "2    2         Albania         AL        ALB        8\n",
            "3    3         Algeria         DZ        DZA       12\n",
            "4    4  American Samoa         AS        ASM       16\n"
          ]
        }
      ],
      "source": [
        "import pandas as pd\n",
        "sInputfilename='/content/Country_Code.csv'\n",
        "Inputdata=pd.read_csv(sInputfilename,encoding=\"latin-1\")\n",
        "print(Inputdata)"
      ]
    },
    {
      "cell_type": "code",
      "source": [
        "Processdata=Inputdata\n",
        "Processdata.drop('ISO-2-CODE',axis=1,inplace=True)\n",
        "Processdata.drop('ISO-3-CODE',axis=1,inplace=True)\n",
        "Processdata.rename(columns={'country':'Countryname'},inplace=True)\n",
        "Processdata.rename(columns={'ISO-M49':'CountryNumber'},inplace=True)\n",
        "Processdata.set_index('CountryNumber',inplace=True)\n",
        "print(Processdata)"
      ],
      "metadata": {
        "colab": {
          "base_uri": "https://localhost:8080/"
        },
        "id": "1m1QbdfmVvJi",
        "outputId": "733d2a82-4475-4a6e-c730-1a16d1fab0cd"
      },
      "execution_count": 2,
      "outputs": [
        {
          "output_type": "stream",
          "name": "stdout",
          "text": [
            "               sno     Countryname\n",
            "CountryNumber                     \n",
            "4                0     Afghanistan\n",
            "248              1  Aland  Islands\n",
            "8                2         Albania\n",
            "12               3         Algeria\n",
            "16               4  American Samoa\n"
          ]
        }
      ]
    },
    {
      "cell_type": "code",
      "source": [
        "Outputdata=Processdata\n",
        "sOutputFilename=\"/content/HORUS-CSV-Country1.csv\"\n",
        "Outputdata.to_csv(sOutputFilename)\n",
        "print('CSV to Horus-DONE')"
      ],
      "metadata": {
        "colab": {
          "base_uri": "https://localhost:8080/"
        },
        "id": "zXcGbbrbXVYk",
        "outputId": "114b3279-15fd-4ba1-8d12-79ed4208fa9d"
      },
      "execution_count": 5,
      "outputs": [
        {
          "output_type": "stream",
          "name": "stdout",
          "text": [
            "CSV to Horus-DONE\n"
          ]
        }
      ]
    }
  ]
}